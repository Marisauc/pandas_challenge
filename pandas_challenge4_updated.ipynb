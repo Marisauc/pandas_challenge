{
 "cells": [
  {
   "cell_type": "code",
   "execution_count": 5,
   "id": "74bd6e82",
   "metadata": {
    "tags": []
   },
   "outputs": [
    {
     "ename": "FileNotFoundError",
     "evalue": "[Errno 2] No such file or directory: 'Mod 4 challenge files/PyCitySchools/Resources/schools_complete.csv'",
     "output_type": "error",
     "traceback": [
      "\u001b[0;31m---------------------------------------------------------------------------\u001b[0m",
      "\u001b[0;31mFileNotFoundError\u001b[0m                         Traceback (most recent call last)",
      "Cell \u001b[0;32mIn[5], line 11\u001b[0m\n\u001b[1;32m      7\u001b[0m student_data_load \u001b[38;5;241m=\u001b[39m Path(\u001b[38;5;124m\"\u001b[39m\u001b[38;5;124mMod 4 challenge files/PyCitySchools/Resources/students_complete.csv\u001b[39m\u001b[38;5;124m\"\u001b[39m)\n\u001b[1;32m     10\u001b[0m \u001b[38;5;66;03m#Read school and student data file and store into pandas df\u001b[39;00m\n\u001b[0;32m---> 11\u001b[0m school_df \u001b[38;5;241m=\u001b[39m \u001b[43mpd\u001b[49m\u001b[38;5;241;43m.\u001b[39;49m\u001b[43mread_csv\u001b[49m\u001b[43m(\u001b[49m\u001b[43mschool_data_load\u001b[49m\u001b[43m)\u001b[49m\n\u001b[1;32m     12\u001b[0m student_df \u001b[38;5;241m=\u001b[39m pd\u001b[38;5;241m.\u001b[39mread_csv(student_data_load)\n\u001b[1;32m     14\u001b[0m \u001b[38;5;66;03m#combine into single dataset\u001b[39;00m\n",
      "File \u001b[0;32m~/anaconda3/envs/dev/lib/python3.10/site-packages/pandas/io/parsers/readers.py:912\u001b[0m, in \u001b[0;36mread_csv\u001b[0;34m(filepath_or_buffer, sep, delimiter, header, names, index_col, usecols, dtype, engine, converters, true_values, false_values, skipinitialspace, skiprows, skipfooter, nrows, na_values, keep_default_na, na_filter, verbose, skip_blank_lines, parse_dates, infer_datetime_format, keep_date_col, date_parser, date_format, dayfirst, cache_dates, iterator, chunksize, compression, thousands, decimal, lineterminator, quotechar, quoting, doublequote, escapechar, comment, encoding, encoding_errors, dialect, on_bad_lines, delim_whitespace, low_memory, memory_map, float_precision, storage_options, dtype_backend)\u001b[0m\n\u001b[1;32m    899\u001b[0m kwds_defaults \u001b[38;5;241m=\u001b[39m _refine_defaults_read(\n\u001b[1;32m    900\u001b[0m     dialect,\n\u001b[1;32m    901\u001b[0m     delimiter,\n\u001b[0;32m   (...)\u001b[0m\n\u001b[1;32m    908\u001b[0m     dtype_backend\u001b[38;5;241m=\u001b[39mdtype_backend,\n\u001b[1;32m    909\u001b[0m )\n\u001b[1;32m    910\u001b[0m kwds\u001b[38;5;241m.\u001b[39mupdate(kwds_defaults)\n\u001b[0;32m--> 912\u001b[0m \u001b[38;5;28;01mreturn\u001b[39;00m \u001b[43m_read\u001b[49m\u001b[43m(\u001b[49m\u001b[43mfilepath_or_buffer\u001b[49m\u001b[43m,\u001b[49m\u001b[43m \u001b[49m\u001b[43mkwds\u001b[49m\u001b[43m)\u001b[49m\n",
      "File \u001b[0;32m~/anaconda3/envs/dev/lib/python3.10/site-packages/pandas/io/parsers/readers.py:577\u001b[0m, in \u001b[0;36m_read\u001b[0;34m(filepath_or_buffer, kwds)\u001b[0m\n\u001b[1;32m    574\u001b[0m _validate_names(kwds\u001b[38;5;241m.\u001b[39mget(\u001b[38;5;124m\"\u001b[39m\u001b[38;5;124mnames\u001b[39m\u001b[38;5;124m\"\u001b[39m, \u001b[38;5;28;01mNone\u001b[39;00m))\n\u001b[1;32m    576\u001b[0m \u001b[38;5;66;03m# Create the parser.\u001b[39;00m\n\u001b[0;32m--> 577\u001b[0m parser \u001b[38;5;241m=\u001b[39m \u001b[43mTextFileReader\u001b[49m\u001b[43m(\u001b[49m\u001b[43mfilepath_or_buffer\u001b[49m\u001b[43m,\u001b[49m\u001b[43m \u001b[49m\u001b[38;5;241;43m*\u001b[39;49m\u001b[38;5;241;43m*\u001b[39;49m\u001b[43mkwds\u001b[49m\u001b[43m)\u001b[49m\n\u001b[1;32m    579\u001b[0m \u001b[38;5;28;01mif\u001b[39;00m chunksize \u001b[38;5;129;01mor\u001b[39;00m iterator:\n\u001b[1;32m    580\u001b[0m     \u001b[38;5;28;01mreturn\u001b[39;00m parser\n",
      "File \u001b[0;32m~/anaconda3/envs/dev/lib/python3.10/site-packages/pandas/io/parsers/readers.py:1407\u001b[0m, in \u001b[0;36mTextFileReader.__init__\u001b[0;34m(self, f, engine, **kwds)\u001b[0m\n\u001b[1;32m   1404\u001b[0m     \u001b[38;5;28mself\u001b[39m\u001b[38;5;241m.\u001b[39moptions[\u001b[38;5;124m\"\u001b[39m\u001b[38;5;124mhas_index_names\u001b[39m\u001b[38;5;124m\"\u001b[39m] \u001b[38;5;241m=\u001b[39m kwds[\u001b[38;5;124m\"\u001b[39m\u001b[38;5;124mhas_index_names\u001b[39m\u001b[38;5;124m\"\u001b[39m]\n\u001b[1;32m   1406\u001b[0m \u001b[38;5;28mself\u001b[39m\u001b[38;5;241m.\u001b[39mhandles: IOHandles \u001b[38;5;241m|\u001b[39m \u001b[38;5;28;01mNone\u001b[39;00m \u001b[38;5;241m=\u001b[39m \u001b[38;5;28;01mNone\u001b[39;00m\n\u001b[0;32m-> 1407\u001b[0m \u001b[38;5;28mself\u001b[39m\u001b[38;5;241m.\u001b[39m_engine \u001b[38;5;241m=\u001b[39m \u001b[38;5;28;43mself\u001b[39;49m\u001b[38;5;241;43m.\u001b[39;49m\u001b[43m_make_engine\u001b[49m\u001b[43m(\u001b[49m\u001b[43mf\u001b[49m\u001b[43m,\u001b[49m\u001b[43m \u001b[49m\u001b[38;5;28;43mself\u001b[39;49m\u001b[38;5;241;43m.\u001b[39;49m\u001b[43mengine\u001b[49m\u001b[43m)\u001b[49m\n",
      "File \u001b[0;32m~/anaconda3/envs/dev/lib/python3.10/site-packages/pandas/io/parsers/readers.py:1661\u001b[0m, in \u001b[0;36mTextFileReader._make_engine\u001b[0;34m(self, f, engine)\u001b[0m\n\u001b[1;32m   1659\u001b[0m     \u001b[38;5;28;01mif\u001b[39;00m \u001b[38;5;124m\"\u001b[39m\u001b[38;5;124mb\u001b[39m\u001b[38;5;124m\"\u001b[39m \u001b[38;5;129;01mnot\u001b[39;00m \u001b[38;5;129;01min\u001b[39;00m mode:\n\u001b[1;32m   1660\u001b[0m         mode \u001b[38;5;241m+\u001b[39m\u001b[38;5;241m=\u001b[39m \u001b[38;5;124m\"\u001b[39m\u001b[38;5;124mb\u001b[39m\u001b[38;5;124m\"\u001b[39m\n\u001b[0;32m-> 1661\u001b[0m \u001b[38;5;28mself\u001b[39m\u001b[38;5;241m.\u001b[39mhandles \u001b[38;5;241m=\u001b[39m \u001b[43mget_handle\u001b[49m\u001b[43m(\u001b[49m\n\u001b[1;32m   1662\u001b[0m \u001b[43m    \u001b[49m\u001b[43mf\u001b[49m\u001b[43m,\u001b[49m\n\u001b[1;32m   1663\u001b[0m \u001b[43m    \u001b[49m\u001b[43mmode\u001b[49m\u001b[43m,\u001b[49m\n\u001b[1;32m   1664\u001b[0m \u001b[43m    \u001b[49m\u001b[43mencoding\u001b[49m\u001b[38;5;241;43m=\u001b[39;49m\u001b[38;5;28;43mself\u001b[39;49m\u001b[38;5;241;43m.\u001b[39;49m\u001b[43moptions\u001b[49m\u001b[38;5;241;43m.\u001b[39;49m\u001b[43mget\u001b[49m\u001b[43m(\u001b[49m\u001b[38;5;124;43m\"\u001b[39;49m\u001b[38;5;124;43mencoding\u001b[39;49m\u001b[38;5;124;43m\"\u001b[39;49m\u001b[43m,\u001b[49m\u001b[43m \u001b[49m\u001b[38;5;28;43;01mNone\u001b[39;49;00m\u001b[43m)\u001b[49m\u001b[43m,\u001b[49m\n\u001b[1;32m   1665\u001b[0m \u001b[43m    \u001b[49m\u001b[43mcompression\u001b[49m\u001b[38;5;241;43m=\u001b[39;49m\u001b[38;5;28;43mself\u001b[39;49m\u001b[38;5;241;43m.\u001b[39;49m\u001b[43moptions\u001b[49m\u001b[38;5;241;43m.\u001b[39;49m\u001b[43mget\u001b[49m\u001b[43m(\u001b[49m\u001b[38;5;124;43m\"\u001b[39;49m\u001b[38;5;124;43mcompression\u001b[39;49m\u001b[38;5;124;43m\"\u001b[39;49m\u001b[43m,\u001b[49m\u001b[43m \u001b[49m\u001b[38;5;28;43;01mNone\u001b[39;49;00m\u001b[43m)\u001b[49m\u001b[43m,\u001b[49m\n\u001b[1;32m   1666\u001b[0m \u001b[43m    \u001b[49m\u001b[43mmemory_map\u001b[49m\u001b[38;5;241;43m=\u001b[39;49m\u001b[38;5;28;43mself\u001b[39;49m\u001b[38;5;241;43m.\u001b[39;49m\u001b[43moptions\u001b[49m\u001b[38;5;241;43m.\u001b[39;49m\u001b[43mget\u001b[49m\u001b[43m(\u001b[49m\u001b[38;5;124;43m\"\u001b[39;49m\u001b[38;5;124;43mmemory_map\u001b[39;49m\u001b[38;5;124;43m\"\u001b[39;49m\u001b[43m,\u001b[49m\u001b[43m \u001b[49m\u001b[38;5;28;43;01mFalse\u001b[39;49;00m\u001b[43m)\u001b[49m\u001b[43m,\u001b[49m\n\u001b[1;32m   1667\u001b[0m \u001b[43m    \u001b[49m\u001b[43mis_text\u001b[49m\u001b[38;5;241;43m=\u001b[39;49m\u001b[43mis_text\u001b[49m\u001b[43m,\u001b[49m\n\u001b[1;32m   1668\u001b[0m \u001b[43m    \u001b[49m\u001b[43merrors\u001b[49m\u001b[38;5;241;43m=\u001b[39;49m\u001b[38;5;28;43mself\u001b[39;49m\u001b[38;5;241;43m.\u001b[39;49m\u001b[43moptions\u001b[49m\u001b[38;5;241;43m.\u001b[39;49m\u001b[43mget\u001b[49m\u001b[43m(\u001b[49m\u001b[38;5;124;43m\"\u001b[39;49m\u001b[38;5;124;43mencoding_errors\u001b[39;49m\u001b[38;5;124;43m\"\u001b[39;49m\u001b[43m,\u001b[49m\u001b[43m \u001b[49m\u001b[38;5;124;43m\"\u001b[39;49m\u001b[38;5;124;43mstrict\u001b[39;49m\u001b[38;5;124;43m\"\u001b[39;49m\u001b[43m)\u001b[49m\u001b[43m,\u001b[49m\n\u001b[1;32m   1669\u001b[0m \u001b[43m    \u001b[49m\u001b[43mstorage_options\u001b[49m\u001b[38;5;241;43m=\u001b[39;49m\u001b[38;5;28;43mself\u001b[39;49m\u001b[38;5;241;43m.\u001b[39;49m\u001b[43moptions\u001b[49m\u001b[38;5;241;43m.\u001b[39;49m\u001b[43mget\u001b[49m\u001b[43m(\u001b[49m\u001b[38;5;124;43m\"\u001b[39;49m\u001b[38;5;124;43mstorage_options\u001b[39;49m\u001b[38;5;124;43m\"\u001b[39;49m\u001b[43m,\u001b[49m\u001b[43m \u001b[49m\u001b[38;5;28;43;01mNone\u001b[39;49;00m\u001b[43m)\u001b[49m\u001b[43m,\u001b[49m\n\u001b[1;32m   1670\u001b[0m \u001b[43m\u001b[49m\u001b[43m)\u001b[49m\n\u001b[1;32m   1671\u001b[0m \u001b[38;5;28;01massert\u001b[39;00m \u001b[38;5;28mself\u001b[39m\u001b[38;5;241m.\u001b[39mhandles \u001b[38;5;129;01mis\u001b[39;00m \u001b[38;5;129;01mnot\u001b[39;00m \u001b[38;5;28;01mNone\u001b[39;00m\n\u001b[1;32m   1672\u001b[0m f \u001b[38;5;241m=\u001b[39m \u001b[38;5;28mself\u001b[39m\u001b[38;5;241m.\u001b[39mhandles\u001b[38;5;241m.\u001b[39mhandle\n",
      "File \u001b[0;32m~/anaconda3/envs/dev/lib/python3.10/site-packages/pandas/io/common.py:859\u001b[0m, in \u001b[0;36mget_handle\u001b[0;34m(path_or_buf, mode, encoding, compression, memory_map, is_text, errors, storage_options)\u001b[0m\n\u001b[1;32m    854\u001b[0m \u001b[38;5;28;01melif\u001b[39;00m \u001b[38;5;28misinstance\u001b[39m(handle, \u001b[38;5;28mstr\u001b[39m):\n\u001b[1;32m    855\u001b[0m     \u001b[38;5;66;03m# Check whether the filename is to be opened in binary mode.\u001b[39;00m\n\u001b[1;32m    856\u001b[0m     \u001b[38;5;66;03m# Binary mode does not support 'encoding' and 'newline'.\u001b[39;00m\n\u001b[1;32m    857\u001b[0m     \u001b[38;5;28;01mif\u001b[39;00m ioargs\u001b[38;5;241m.\u001b[39mencoding \u001b[38;5;129;01mand\u001b[39;00m \u001b[38;5;124m\"\u001b[39m\u001b[38;5;124mb\u001b[39m\u001b[38;5;124m\"\u001b[39m \u001b[38;5;129;01mnot\u001b[39;00m \u001b[38;5;129;01min\u001b[39;00m ioargs\u001b[38;5;241m.\u001b[39mmode:\n\u001b[1;32m    858\u001b[0m         \u001b[38;5;66;03m# Encoding\u001b[39;00m\n\u001b[0;32m--> 859\u001b[0m         handle \u001b[38;5;241m=\u001b[39m \u001b[38;5;28;43mopen\u001b[39;49m\u001b[43m(\u001b[49m\n\u001b[1;32m    860\u001b[0m \u001b[43m            \u001b[49m\u001b[43mhandle\u001b[49m\u001b[43m,\u001b[49m\n\u001b[1;32m    861\u001b[0m \u001b[43m            \u001b[49m\u001b[43mioargs\u001b[49m\u001b[38;5;241;43m.\u001b[39;49m\u001b[43mmode\u001b[49m\u001b[43m,\u001b[49m\n\u001b[1;32m    862\u001b[0m \u001b[43m            \u001b[49m\u001b[43mencoding\u001b[49m\u001b[38;5;241;43m=\u001b[39;49m\u001b[43mioargs\u001b[49m\u001b[38;5;241;43m.\u001b[39;49m\u001b[43mencoding\u001b[49m\u001b[43m,\u001b[49m\n\u001b[1;32m    863\u001b[0m \u001b[43m            \u001b[49m\u001b[43merrors\u001b[49m\u001b[38;5;241;43m=\u001b[39;49m\u001b[43merrors\u001b[49m\u001b[43m,\u001b[49m\n\u001b[1;32m    864\u001b[0m \u001b[43m            \u001b[49m\u001b[43mnewline\u001b[49m\u001b[38;5;241;43m=\u001b[39;49m\u001b[38;5;124;43m\"\u001b[39;49m\u001b[38;5;124;43m\"\u001b[39;49m\u001b[43m,\u001b[49m\n\u001b[1;32m    865\u001b[0m \u001b[43m        \u001b[49m\u001b[43m)\u001b[49m\n\u001b[1;32m    866\u001b[0m     \u001b[38;5;28;01melse\u001b[39;00m:\n\u001b[1;32m    867\u001b[0m         \u001b[38;5;66;03m# Binary mode\u001b[39;00m\n\u001b[1;32m    868\u001b[0m         handle \u001b[38;5;241m=\u001b[39m \u001b[38;5;28mopen\u001b[39m(handle, ioargs\u001b[38;5;241m.\u001b[39mmode)\n",
      "\u001b[0;31mFileNotFoundError\u001b[0m: [Errno 2] No such file or directory: 'Mod 4 challenge files/PyCitySchools/Resources/schools_complete.csv'"
     ]
    }
   ],
   "source": [
    "#import files\n",
    "import pandas as pd\n",
    "from pathlib import Path\n",
    "\n",
    "#Indicate file to be loaded \n",
    "school_data_load = Path(\"Mod 4 challenge files/PyCitySchools/Resources/schools_complete.csv\")\n",
    "student_data_load = Path(\"Mod 4 challenge files/PyCitySchools/Resources/students_complete.csv\")\n",
    "\n",
    "\n",
    "#Read school and student data file and store into pandas df\n",
    "school_df = pd.read_csv(school_data_load)\n",
    "student_df = pd.read_csv(student_data_load)\n",
    "\n",
    "#combine into single dataset\n",
    "school_data_final = pd.merge(student_df, school_df, how=\"left\", on=[\"school_name\", \"school_name\"])\n",
    "school_data_final.head()"
   ]
  },
  {
   "cell_type": "code",
   "execution_count": null,
   "id": "d68cc9b1",
   "metadata": {
    "tags": []
   },
   "outputs": [],
   "source": [
    "#Calculate the total # of unique schools\n",
    "\n",
    "school_count= school_df.school_name.unique().size\n",
    "print(\"Unique school name count : \"+ str(school_count))"
   ]
  },
  {
   "cell_type": "code",
   "execution_count": 6,
   "id": "dd709f24",
   "metadata": {
    "tags": []
   },
   "outputs": [
    {
     "ename": "NameError",
     "evalue": "name 'school_data_final' is not defined",
     "output_type": "error",
     "traceback": [
      "\u001b[0;31m---------------------------------------------------------------------------\u001b[0m",
      "\u001b[0;31mNameError\u001b[0m                                 Traceback (most recent call last)",
      "Cell \u001b[0;32mIn[6], line 3\u001b[0m\n\u001b[1;32m      1\u001b[0m \u001b[38;5;66;03m#calculate number of student names\u001b[39;00m\n\u001b[0;32m----> 3\u001b[0m student_count\u001b[38;5;241m=\u001b[39m \u001b[43mschool_data_final\u001b[49m[\u001b[38;5;124m\"\u001b[39m\u001b[38;5;124mStudent ID\u001b[39m\u001b[38;5;124m\"\u001b[39m]\u001b[38;5;241m.\u001b[39munique()\u001b[38;5;241m.\u001b[39msize\n\u001b[1;32m      4\u001b[0m \u001b[38;5;28mprint\u001b[39m(\u001b[38;5;124m\"\u001b[39m\u001b[38;5;124mUnique student name count : \u001b[39m\u001b[38;5;124m\"\u001b[39m\u001b[38;5;241m+\u001b[39m \u001b[38;5;28mstr\u001b[39m(student_count))\n",
      "\u001b[0;31mNameError\u001b[0m: name 'school_data_final' is not defined"
     ]
    }
   ],
   "source": [
    "#calculate number of student names\n",
    "\n",
    "student_count= school_data_final[\"Student ID\"].unique().size\n",
    "print(\"Unique student name count : \"+ str(student_count))"
   ]
  },
  {
   "cell_type": "code",
   "execution_count": 7,
   "id": "500c8619",
   "metadata": {
    "tags": []
   },
   "outputs": [
    {
     "ename": "NameError",
     "evalue": "name 'school_df' is not defined",
     "output_type": "error",
     "traceback": [
      "\u001b[0;31m---------------------------------------------------------------------------\u001b[0m",
      "\u001b[0;31mNameError\u001b[0m                                 Traceback (most recent call last)",
      "Cell \u001b[0;32mIn[7], line 3\u001b[0m\n\u001b[1;32m      1\u001b[0m \u001b[38;5;66;03m#Calculate total budget\u001b[39;00m\n\u001b[0;32m----> 3\u001b[0m total_budget \u001b[38;5;241m=\u001b[39m \u001b[38;5;28msum\u001b[39m(\u001b[43mschool_df\u001b[49m\u001b[38;5;241m.\u001b[39mbudget)\n\u001b[1;32m      4\u001b[0m \u001b[38;5;28mprint\u001b[39m(total_budget)\n",
      "\u001b[0;31mNameError\u001b[0m: name 'school_df' is not defined"
     ]
    }
   ],
   "source": [
    "#Calculate total budget\n",
    "\n",
    "total_budget = sum(school_df.budget)\n",
    "print(total_budget)"
   ]
  },
  {
   "cell_type": "code",
   "execution_count": 8,
   "id": "382aabf3",
   "metadata": {
    "tags": []
   },
   "outputs": [
    {
     "ename": "NameError",
     "evalue": "name 'school_data_final' is not defined",
     "output_type": "error",
     "traceback": [
      "\u001b[0;31m---------------------------------------------------------------------------\u001b[0m",
      "\u001b[0;31mNameError\u001b[0m                                 Traceback (most recent call last)",
      "Cell \u001b[0;32mIn[8], line 2\u001b[0m\n\u001b[1;32m      1\u001b[0m \u001b[38;5;66;03m#convert string to float\u001b[39;00m\n\u001b[0;32m----> 2\u001b[0m school_data_final[\u001b[38;5;124m'\u001b[39m\u001b[38;5;124mmath_score\u001b[39m\u001b[38;5;124m'\u001b[39m] \u001b[38;5;241m=\u001b[39m \u001b[43mschool_data_final\u001b[49m[\u001b[38;5;124m'\u001b[39m\u001b[38;5;124mmath_score\u001b[39m\u001b[38;5;124m'\u001b[39m]\u001b[38;5;241m.\u001b[39mastype(\u001b[38;5;28mfloat\u001b[39m)\n\u001b[1;32m      4\u001b[0m \u001b[38;5;66;03m#calculate average math score\u001b[39;00m\n\u001b[1;32m      6\u001b[0m avg_math\u001b[38;5;241m=\u001b[39m school_data_final[\u001b[38;5;124m\"\u001b[39m\u001b[38;5;124mmath_score\u001b[39m\u001b[38;5;124m\"\u001b[39m]\u001b[38;5;241m.\u001b[39mmean()\n",
      "\u001b[0;31mNameError\u001b[0m: name 'school_data_final' is not defined"
     ]
    }
   ],
   "source": [
    "#convert string to float\n",
    "school_data_final['math_score'] = school_data_final['math_score'].astype(float)\n",
    "\n",
    "#calculate average math score\n",
    "\n",
    "avg_math= school_data_final[\"math_score\"].mean()\n",
    "print(avg_math)"
   ]
  },
  {
   "cell_type": "code",
   "execution_count": 9,
   "id": "bafc9a77",
   "metadata": {
    "tags": []
   },
   "outputs": [
    {
     "ename": "NameError",
     "evalue": "name 'school_data_final' is not defined",
     "output_type": "error",
     "traceback": [
      "\u001b[0;31m---------------------------------------------------------------------------\u001b[0m",
      "\u001b[0;31mNameError\u001b[0m                                 Traceback (most recent call last)",
      "Cell \u001b[0;32mIn[9], line 3\u001b[0m\n\u001b[1;32m      1\u001b[0m \u001b[38;5;66;03m#Calculate average reading score\u001b[39;00m\n\u001b[0;32m----> 3\u001b[0m avg_reading \u001b[38;5;241m=\u001b[39m \u001b[43mschool_data_final\u001b[49m[\u001b[38;5;124m\"\u001b[39m\u001b[38;5;124mreading_score\u001b[39m\u001b[38;5;124m\"\u001b[39m]\u001b[38;5;241m.\u001b[39mmean()\n\u001b[1;32m      4\u001b[0m \u001b[38;5;28mprint\u001b[39m(avg_reading)\n",
      "\u001b[0;31mNameError\u001b[0m: name 'school_data_final' is not defined"
     ]
    }
   ],
   "source": [
    "#Calculate average reading score\n",
    "\n",
    "avg_reading = school_data_final[\"reading_score\"].mean()\n",
    "print(avg_reading)"
   ]
  },
  {
   "cell_type": "code",
   "execution_count": 10,
   "id": "fe5f990d",
   "metadata": {
    "tags": []
   },
   "outputs": [
    {
     "ename": "NameError",
     "evalue": "name 'school_data_final' is not defined",
     "output_type": "error",
     "traceback": [
      "\u001b[0;31m---------------------------------------------------------------------------\u001b[0m",
      "\u001b[0;31mNameError\u001b[0m                                 Traceback (most recent call last)",
      "Cell \u001b[0;32mIn[10], line 2\u001b[0m\n\u001b[1;32m      1\u001b[0m \u001b[38;5;66;03m# calculate the percentage of students who passed math (math scores greather than or equal to 70)\u001b[39;00m\n\u001b[0;32m----> 2\u001b[0m passing_math_count \u001b[38;5;241m=\u001b[39m \u001b[43mschool_data_final\u001b[49m[(school_data_final[\u001b[38;5;124m\"\u001b[39m\u001b[38;5;124mmath_score\u001b[39m\u001b[38;5;124m\"\u001b[39m] \u001b[38;5;241m>\u001b[39m\u001b[38;5;241m=\u001b[39m \u001b[38;5;241m70\u001b[39m)]\u001b[38;5;241m.\u001b[39mcount()[\u001b[38;5;124m\"\u001b[39m\u001b[38;5;124mstudent_name\u001b[39m\u001b[38;5;124m\"\u001b[39m]\n\u001b[1;32m      3\u001b[0m passing_math_percentage \u001b[38;5;241m=\u001b[39m passing_math_count \u001b[38;5;241m/\u001b[39m \u001b[38;5;28mfloat\u001b[39m(student_count) \u001b[38;5;241m*\u001b[39m \u001b[38;5;241m100\u001b[39m\n\u001b[1;32m      4\u001b[0m passing_math_percentage\n",
      "\u001b[0;31mNameError\u001b[0m: name 'school_data_final' is not defined"
     ]
    }
   ],
   "source": [
    "# calculate the percentage of students who passed math (math scores greather than or equal to 70)\n",
    "passing_math_count = school_data_final[(school_data_final[\"math_score\"] >= 70)].count()[\"student_name\"]\n",
    "passing_math_percentage = passing_math_count / float(student_count) * 100\n",
    "passing_math_percentage"
   ]
  },
  {
   "cell_type": "code",
   "execution_count": 11,
   "id": "54847f94",
   "metadata": {
    "tags": []
   },
   "outputs": [
    {
     "ename": "NameError",
     "evalue": "name 'school_data_final' is not defined",
     "output_type": "error",
     "traceback": [
      "\u001b[0;31m---------------------------------------------------------------------------\u001b[0m",
      "\u001b[0;31mNameError\u001b[0m                                 Traceback (most recent call last)",
      "Cell \u001b[0;32mIn[11], line 2\u001b[0m\n\u001b[1;32m      1\u001b[0m \u001b[38;5;66;03m#Calculate % of students passing reading\u001b[39;00m\n\u001b[0;32m----> 2\u001b[0m passing_read_count \u001b[38;5;241m=\u001b[39m \u001b[43mschool_data_final\u001b[49m[(school_data_final[\u001b[38;5;124m\"\u001b[39m\u001b[38;5;124mreading_score\u001b[39m\u001b[38;5;124m\"\u001b[39m] \u001b[38;5;241m>\u001b[39m\u001b[38;5;241m=\u001b[39m \u001b[38;5;241m70\u001b[39m)]\u001b[38;5;241m.\u001b[39mcount()[\u001b[38;5;124m\"\u001b[39m\u001b[38;5;124mstudent_name\u001b[39m\u001b[38;5;124m\"\u001b[39m]\n\u001b[1;32m      3\u001b[0m passing_read_percentage \u001b[38;5;241m=\u001b[39m passing_read_count \u001b[38;5;241m/\u001b[39m \u001b[38;5;28mfloat\u001b[39m(student_count) \u001b[38;5;241m*\u001b[39m \u001b[38;5;241m100\u001b[39m\n\u001b[1;32m      4\u001b[0m passing_read_percentage\n",
      "\u001b[0;31mNameError\u001b[0m: name 'school_data_final' is not defined"
     ]
    }
   ],
   "source": [
    "#Calculate % of students passing reading\n",
    "passing_read_count = school_data_final[(school_data_final[\"reading_score\"] >= 70)].count()[\"student_name\"]\n",
    "passing_read_percentage = passing_read_count / float(student_count) * 100\n",
    "passing_read_percentage"
   ]
  },
  {
   "cell_type": "code",
   "execution_count": 12,
   "id": "1d656065",
   "metadata": {
    "tags": []
   },
   "outputs": [
    {
     "ename": "NameError",
     "evalue": "name 'school_data_final' is not defined",
     "output_type": "error",
     "traceback": [
      "\u001b[0;31m---------------------------------------------------------------------------\u001b[0m",
      "\u001b[0;31mNameError\u001b[0m                                 Traceback (most recent call last)",
      "Cell \u001b[0;32mIn[12], line 2\u001b[0m\n\u001b[1;32m      1\u001b[0m \u001b[38;5;66;03m# calculate the percentage of students that passed math and reading\u001b[39;00m\n\u001b[0;32m----> 2\u001b[0m passing_math_reading_count \u001b[38;5;241m=\u001b[39m \u001b[43mschool_data_final\u001b[49m[\n\u001b[1;32m      3\u001b[0m     (school_data_final[\u001b[38;5;124m\"\u001b[39m\u001b[38;5;124mmath_score\u001b[39m\u001b[38;5;124m\"\u001b[39m] \u001b[38;5;241m>\u001b[39m\u001b[38;5;241m=\u001b[39m \u001b[38;5;241m70\u001b[39m) \u001b[38;5;241m&\u001b[39m (school_data_final[\u001b[38;5;124m\"\u001b[39m\u001b[38;5;124mreading_score\u001b[39m\u001b[38;5;124m\"\u001b[39m] \u001b[38;5;241m>\u001b[39m\u001b[38;5;241m=\u001b[39m \u001b[38;5;241m70\u001b[39m)\n\u001b[1;32m      4\u001b[0m ]\u001b[38;5;241m.\u001b[39mcount()[\u001b[38;5;124m\"\u001b[39m\u001b[38;5;124mstudent_name\u001b[39m\u001b[38;5;124m\"\u001b[39m]\n\u001b[1;32m      5\u001b[0m overall_passing_rate \u001b[38;5;241m=\u001b[39m passing_math_reading_count \u001b[38;5;241m/\u001b[39m  \u001b[38;5;28mfloat\u001b[39m(student_count) \u001b[38;5;241m*\u001b[39m \u001b[38;5;241m100\u001b[39m\n\u001b[1;32m      6\u001b[0m overall_passing_rate\n",
      "\u001b[0;31mNameError\u001b[0m: name 'school_data_final' is not defined"
     ]
    }
   ],
   "source": [
    "# calculate the percentage of students that passed math and reading\n",
    "passing_math_reading_count = school_data_final[\n",
    "    (school_data_final[\"math_score\"] >= 70) & (school_data_final[\"reading_score\"] >= 70)\n",
    "].count()[\"student_name\"]\n",
    "overall_passing_rate = passing_math_reading_count /  float(student_count) * 100\n",
    "overall_passing_rate"
   ]
  },
  {
   "cell_type": "code",
   "execution_count": 13,
   "id": "80f96a46",
   "metadata": {
    "tags": []
   },
   "outputs": [
    {
     "ename": "NameError",
     "evalue": "name 'school_count' is not defined",
     "output_type": "error",
     "traceback": [
      "\u001b[0;31m---------------------------------------------------------------------------\u001b[0m",
      "\u001b[0;31mNameError\u001b[0m                                 Traceback (most recent call last)",
      "Cell \u001b[0;32mIn[13], line 2\u001b[0m\n\u001b[1;32m      1\u001b[0m \u001b[38;5;66;03m# Create a high-level snapshot of the district's key metrics in a DataFrame\u001b[39;00m\n\u001b[0;32m----> 2\u001b[0m district_summary \u001b[38;5;241m=\u001b[39m pd\u001b[38;5;241m.\u001b[39mDataFrame({\u001b[38;5;124m\"\u001b[39m\u001b[38;5;124mTotal Schools\u001b[39m\u001b[38;5;124m\"\u001b[39m:[\u001b[43mschool_count\u001b[49m],\n\u001b[1;32m      3\u001b[0m                                  \u001b[38;5;124m\"\u001b[39m\u001b[38;5;124mTotal Students\u001b[39m\u001b[38;5;124m\"\u001b[39m:[student_count],\n\u001b[1;32m      4\u001b[0m                                  \u001b[38;5;124m\"\u001b[39m\u001b[38;5;124mTotal Budget\u001b[39m\u001b[38;5;124m\"\u001b[39m:[total_budget],\n\u001b[1;32m      5\u001b[0m                                 \u001b[38;5;124m\"\u001b[39m\u001b[38;5;124mAverage Math Score\u001b[39m\u001b[38;5;124m\"\u001b[39m:[avg_math],\n\u001b[1;32m      6\u001b[0m                                 \u001b[38;5;124m\"\u001b[39m\u001b[38;5;124mAverage Reading Score\u001b[39m\u001b[38;5;124m\"\u001b[39m:[avg_reading],\n\u001b[1;32m      7\u001b[0m                                 \u001b[38;5;124m\"\u001b[39m\u001b[38;5;124m%\u001b[39m\u001b[38;5;124m Passing Math\u001b[39m\u001b[38;5;124m\"\u001b[39m:[passing_math_percentage],\n\u001b[1;32m      8\u001b[0m                                 \u001b[38;5;124m\"\u001b[39m\u001b[38;5;124m%\u001b[39m\u001b[38;5;124m Passing Reading\u001b[39m\u001b[38;5;124m\"\u001b[39m:[passing_read_percentage],\n\u001b[1;32m      9\u001b[0m                                 \u001b[38;5;124m\"\u001b[39m\u001b[38;5;124m%\u001b[39m\u001b[38;5;124m Overall Passing\u001b[39m\u001b[38;5;124m\"\u001b[39m:[overall_passing_rate]})\n\u001b[1;32m     11\u001b[0m \u001b[38;5;66;03m# Formatting\u001b[39;00m\n\u001b[1;32m     12\u001b[0m district_summary[\u001b[38;5;124m\"\u001b[39m\u001b[38;5;124mTotal Students\u001b[39m\u001b[38;5;124m\"\u001b[39m] \u001b[38;5;241m=\u001b[39m district_summary[\u001b[38;5;124m\"\u001b[39m\u001b[38;5;124mTotal Students\u001b[39m\u001b[38;5;124m\"\u001b[39m]\u001b[38;5;241m.\u001b[39mmap(\u001b[38;5;124m\"\u001b[39m\u001b[38;5;132;01m{:,}\u001b[39;00m\u001b[38;5;124m\"\u001b[39m\u001b[38;5;241m.\u001b[39mformat)\n",
      "\u001b[0;31mNameError\u001b[0m: name 'school_count' is not defined"
     ]
    }
   ],
   "source": [
    "# Create a high-level snapshot of the district's key metrics in a DataFrame\n",
    "district_summary = pd.DataFrame({\"Total Schools\":[school_count],\n",
    "                                 \"Total Students\":[student_count],\n",
    "                                 \"Total Budget\":[total_budget],\n",
    "                                \"Average Math Score\":[avg_math],\n",
    "                                \"Average Reading Score\":[avg_reading],\n",
    "                                \"% Passing Math\":[passing_math_percentage],\n",
    "                                \"% Passing Reading\":[passing_read_percentage],\n",
    "                                \"% Overall Passing\":[overall_passing_rate]})\n",
    "\n",
    "# Formatting\n",
    "district_summary[\"Total Students\"] = district_summary[\"Total Students\"].map(\"{:,}\".format)\n",
    "district_summary[\"Total Budget\"] = district_summary[\"Total Budget\"].map(\"${:,.2f}\".format)\n",
    "\n",
    "# Display the DataFrame\n",
    "district_summary"
   ]
  },
  {
   "cell_type": "code",
   "execution_count": 14,
   "id": "5f85af03",
   "metadata": {
    "tags": []
   },
   "outputs": [
    {
     "ename": "NameError",
     "evalue": "name 'school_df' is not defined",
     "output_type": "error",
     "traceback": [
      "\u001b[0;31m---------------------------------------------------------------------------\u001b[0m",
      "\u001b[0;31mNameError\u001b[0m                                 Traceback (most recent call last)",
      "Cell \u001b[0;32mIn[14], line 2\u001b[0m\n\u001b[1;32m      1\u001b[0m \u001b[38;5;66;03m# Use the code provided to select all of the school types\u001b[39;00m\n\u001b[0;32m----> 2\u001b[0m school_types \u001b[38;5;241m=\u001b[39m \u001b[43mschool_df\u001b[49m\u001b[38;5;241m.\u001b[39mset_index([\u001b[38;5;124m\"\u001b[39m\u001b[38;5;124mschool_name\u001b[39m\u001b[38;5;124m\"\u001b[39m])[\u001b[38;5;124m\"\u001b[39m\u001b[38;5;124mtype\u001b[39m\u001b[38;5;124m\"\u001b[39m]\n\u001b[1;32m      5\u001b[0m \u001b[38;5;66;03m#display\u001b[39;00m\n\u001b[1;32m      6\u001b[0m school_types\n",
      "\u001b[0;31mNameError\u001b[0m: name 'school_df' is not defined"
     ]
    }
   ],
   "source": [
    "# Use the code provided to select all of the school types\n",
    "school_types = school_df.set_index([\"school_name\"])[\"type\"]\n",
    "\n",
    "\n",
    "#display\n",
    "school_types\n"
   ]
  },
  {
   "cell_type": "code",
   "execution_count": 15,
   "id": "78752131",
   "metadata": {
    "tags": []
   },
   "outputs": [
    {
     "ename": "NameError",
     "evalue": "name 'school_data_final' is not defined",
     "output_type": "error",
     "traceback": [
      "\u001b[0;31m---------------------------------------------------------------------------\u001b[0m",
      "\u001b[0;31mNameError\u001b[0m                                 Traceback (most recent call last)",
      "Cell \u001b[0;32mIn[15], line 2\u001b[0m\n\u001b[1;32m      1\u001b[0m \u001b[38;5;66;03m# Calculate the total student count per school\u001b[39;00m\n\u001b[0;32m----> 2\u001b[0m per_school_counts \u001b[38;5;241m=\u001b[39m \u001b[43mschool_data_final\u001b[49m[\u001b[38;5;124m\"\u001b[39m\u001b[38;5;124mschool_name\u001b[39m\u001b[38;5;124m\"\u001b[39m]\u001b[38;5;241m.\u001b[39mvalue_counts()\n\u001b[1;32m      4\u001b[0m \u001b[38;5;66;03m#display\u001b[39;00m\n\u001b[1;32m      5\u001b[0m per_school_counts\n",
      "\u001b[0;31mNameError\u001b[0m: name 'school_data_final' is not defined"
     ]
    }
   ],
   "source": [
    "# Calculate the total student count per school\n",
    "per_school_counts = school_data_final[\"school_name\"].value_counts()\n",
    "\n",
    "#display\n",
    "per_school_counts"
   ]
  },
  {
   "cell_type": "code",
   "execution_count": 16,
   "id": "3eb878a0",
   "metadata": {
    "tags": []
   },
   "outputs": [
    {
     "ename": "NameError",
     "evalue": "name 'school_data_final' is not defined",
     "output_type": "error",
     "traceback": [
      "\u001b[0;31m---------------------------------------------------------------------------\u001b[0m",
      "\u001b[0;31mNameError\u001b[0m                                 Traceback (most recent call last)",
      "Cell \u001b[0;32mIn[16], line 2\u001b[0m\n\u001b[1;32m      1\u001b[0m \u001b[38;5;66;03m# Calculate the total school budget and per capita spending per school\u001b[39;00m\n\u001b[0;32m----> 2\u001b[0m per_school_budget \u001b[38;5;241m=\u001b[39m \u001b[43mschool_data_final\u001b[49m\u001b[38;5;241m.\u001b[39mgroupby([\u001b[38;5;124m\"\u001b[39m\u001b[38;5;124mschool_name\u001b[39m\u001b[38;5;124m\"\u001b[39m])[\u001b[38;5;124m\"\u001b[39m\u001b[38;5;124mbudget\u001b[39m\u001b[38;5;124m\"\u001b[39m]\u001b[38;5;241m.\u001b[39mmean()\n\u001b[1;32m      4\u001b[0m \u001b[38;5;66;03m#per student budget \u001b[39;00m\n\u001b[1;32m      5\u001b[0m per_school_capita \u001b[38;5;241m=\u001b[39m per_school_budget\u001b[38;5;241m.\u001b[39mdiv(school_count)\n",
      "\u001b[0;31mNameError\u001b[0m: name 'school_data_final' is not defined"
     ]
    }
   ],
   "source": [
    "# Calculate the total school budget and per capita spending per school\n",
    "per_school_budget = school_data_final.groupby([\"school_name\"])[\"budget\"].mean()\n",
    "\n",
    "#per student budget \n",
    "per_school_capita = per_school_budget.div(school_count)\n",
    "\n",
    "#display\n",
    "per_school_budget\n",
    "\n",
    "#display\n",
    "per_school_capita"
   ]
  },
  {
   "cell_type": "code",
   "execution_count": 17,
   "id": "c330af84",
   "metadata": {
    "tags": []
   },
   "outputs": [
    {
     "ename": "NameError",
     "evalue": "name 'school_data_final' is not defined",
     "output_type": "error",
     "traceback": [
      "\u001b[0;31m---------------------------------------------------------------------------\u001b[0m",
      "\u001b[0;31mNameError\u001b[0m                                 Traceback (most recent call last)",
      "Cell \u001b[0;32mIn[17], line 2\u001b[0m\n\u001b[1;32m      1\u001b[0m \u001b[38;5;66;03m# Calculate the average test scores per school math\u001b[39;00m\n\u001b[0;32m----> 2\u001b[0m per_school_math \u001b[38;5;241m=\u001b[39m \u001b[43mschool_data_final\u001b[49m\u001b[38;5;241m.\u001b[39mgroupby([\u001b[38;5;124m\"\u001b[39m\u001b[38;5;124mschool_name\u001b[39m\u001b[38;5;124m\"\u001b[39m])[\u001b[38;5;124m\"\u001b[39m\u001b[38;5;124mmath_score\u001b[39m\u001b[38;5;124m\"\u001b[39m]\u001b[38;5;241m.\u001b[39mmean()\n\u001b[1;32m      4\u001b[0m \u001b[38;5;66;03m# Calculate the average test scores per school reading\u001b[39;00m\n\u001b[1;32m      5\u001b[0m per_school_reading \u001b[38;5;241m=\u001b[39m school_data_final\u001b[38;5;241m.\u001b[39mgroupby([\u001b[38;5;124m\"\u001b[39m\u001b[38;5;124mschool_name\u001b[39m\u001b[38;5;124m\"\u001b[39m])[\u001b[38;5;124m\"\u001b[39m\u001b[38;5;124mreading_score\u001b[39m\u001b[38;5;124m\"\u001b[39m]\u001b[38;5;241m.\u001b[39mmean()\n",
      "\u001b[0;31mNameError\u001b[0m: name 'school_data_final' is not defined"
     ]
    }
   ],
   "source": [
    "# Calculate the average test scores per school math\n",
    "per_school_math = school_data_final.groupby([\"school_name\"])[\"math_score\"].mean()\n",
    "\n",
    "# Calculate the average test scores per school reading\n",
    "per_school_reading = school_data_final.groupby([\"school_name\"])[\"reading_score\"].mean()\n",
    "\n",
    "#display\n",
    "per_school_math\n",
    "\n",
    "per_school_reading"
   ]
  },
  {
   "cell_type": "code",
   "execution_count": 18,
   "id": "580f29bd",
   "metadata": {
    "tags": []
   },
   "outputs": [
    {
     "ename": "NameError",
     "evalue": "name 'school_data_final' is not defined",
     "output_type": "error",
     "traceback": [
      "\u001b[0;31m---------------------------------------------------------------------------\u001b[0m",
      "\u001b[0;31mNameError\u001b[0m                                 Traceback (most recent call last)",
      "Cell \u001b[0;32mIn[18], line 3\u001b[0m\n\u001b[1;32m      1\u001b[0m \u001b[38;5;66;03m# Calculate the number of students per school with math scores of 70 +\u001b[39;00m\n\u001b[0;32m----> 3\u001b[0m school_students_passing_math \u001b[38;5;241m=\u001b[39m \u001b[43mschool_data_final\u001b[49m[(school_data_final[\u001b[38;5;124m\"\u001b[39m\u001b[38;5;124mmath_score\u001b[39m\u001b[38;5;124m\"\u001b[39m] \u001b[38;5;241m>\u001b[39m\u001b[38;5;241m=\u001b[39m \u001b[38;5;241m70\u001b[39m)]\u001b[38;5;241m.\u001b[39mcount()[\u001b[38;5;124m\"\u001b[39m\u001b[38;5;124mschool_name\u001b[39m\u001b[38;5;124m\"\u001b[39m]\n\u001b[1;32m      5\u001b[0m \u001b[38;5;66;03m#display\u001b[39;00m\n\u001b[1;32m      6\u001b[0m school_students_passing_math \n",
      "\u001b[0;31mNameError\u001b[0m: name 'school_data_final' is not defined"
     ]
    }
   ],
   "source": [
    "# Calculate the number of students per school with math scores of 70 +\n",
    "\n",
    "school_students_passing_math = school_data_final[(school_data_final[\"math_score\"] >= 70)].count()[\"school_name\"]\n",
    "\n",
    "#display\n",
    "school_students_passing_math \n",
    "\n",
    "# Calculate the number of students per school with reading scores of 70 +\n",
    "\n",
    "school_students_passing_reading = school_data_final[(school_data_final[\"reading_score\"] >= 70)].count()[\"school_name\"]\n",
    "\n",
    "#display\n",
    "school_students_passing_reading"
   ]
  },
  {
   "cell_type": "code",
   "execution_count": 19,
   "id": "11ff76eb",
   "metadata": {
    "tags": []
   },
   "outputs": [
    {
     "ename": "NameError",
     "evalue": "name 'school_data_final' is not defined",
     "output_type": "error",
     "traceback": [
      "\u001b[0;31m---------------------------------------------------------------------------\u001b[0m",
      "\u001b[0;31mNameError\u001b[0m                                 Traceback (most recent call last)",
      "Cell \u001b[0;32mIn[19], line 2\u001b[0m\n\u001b[1;32m      1\u001b[0m \u001b[38;5;66;03m# Use the provided code to calculate the number of students per school that passed both math and reading with scores of 70 or higher\u001b[39;00m\n\u001b[0;32m----> 2\u001b[0m students_passing_math_and_reading \u001b[38;5;241m=\u001b[39m \u001b[43mschool_data_final\u001b[49m[(school_data_final[\u001b[38;5;124m\"\u001b[39m\u001b[38;5;124mreading_score\u001b[39m\u001b[38;5;124m\"\u001b[39m] \u001b[38;5;241m>\u001b[39m\u001b[38;5;241m=\u001b[39m \u001b[38;5;241m70\u001b[39m) \u001b[38;5;241m&\u001b[39m (school_data_final[\u001b[38;5;124m\"\u001b[39m\u001b[38;5;124mmath_score\u001b[39m\u001b[38;5;124m\"\u001b[39m] \u001b[38;5;241m>\u001b[39m\u001b[38;5;241m=\u001b[39m \u001b[38;5;241m70\u001b[39m)]\n\u001b[1;32m      3\u001b[0m school_students_passing_math_and_reading \u001b[38;5;241m=\u001b[39m students_passing_math_and_reading\u001b[38;5;241m.\u001b[39mgroupby([\u001b[38;5;124m\"\u001b[39m\u001b[38;5;124mschool_name\u001b[39m\u001b[38;5;124m\"\u001b[39m])\u001b[38;5;241m.\u001b[39msize()\n\u001b[1;32m      5\u001b[0m \u001b[38;5;66;03m#display\u001b[39;00m\n",
      "\u001b[0;31mNameError\u001b[0m: name 'school_data_final' is not defined"
     ]
    }
   ],
   "source": [
    "# Use the provided code to calculate the number of students per school that passed both math and reading with scores of 70 or higher\n",
    "students_passing_math_and_reading = school_data_final[(school_data_final[\"reading_score\"] >= 70) & (school_data_final[\"math_score\"] >= 70)]\n",
    "school_students_passing_math_and_reading = students_passing_math_and_reading.groupby([\"school_name\"]).size()\n",
    "\n",
    "#display\n",
    "students_passing_math_and_reading"
   ]
  },
  {
   "cell_type": "code",
   "execution_count": null,
   "id": "b6632610",
   "metadata": {},
   "outputs": [],
   "source": []
  },
  {
   "cell_type": "code",
   "execution_count": 20,
   "id": "b65803de",
   "metadata": {
    "tags": []
   },
   "outputs": [
    {
     "ename": "NameError",
     "evalue": "name 'school_students_passing_math' is not defined",
     "output_type": "error",
     "traceback": [
      "\u001b[0;31m---------------------------------------------------------------------------\u001b[0m",
      "\u001b[0;31mNameError\u001b[0m                                 Traceback (most recent call last)",
      "Cell \u001b[0;32mIn[20], line 2\u001b[0m\n\u001b[1;32m      1\u001b[0m \u001b[38;5;66;03m# Use the provided code to calculate the passing rates\u001b[39;00m\n\u001b[0;32m----> 2\u001b[0m per_school_passing_math \u001b[38;5;241m=\u001b[39m \u001b[43mschool_students_passing_math\u001b[49m \u001b[38;5;241m/\u001b[39m per_school_counts \u001b[38;5;241m*\u001b[39m \u001b[38;5;241m100\u001b[39m\n\u001b[1;32m      3\u001b[0m \u001b[38;5;66;03m#display\u001b[39;00m\n\u001b[1;32m      4\u001b[0m per_school_passing_math\n",
      "\u001b[0;31mNameError\u001b[0m: name 'school_students_passing_math' is not defined"
     ]
    }
   ],
   "source": [
    "# Use the provided code to calculate the passing rates\n",
    "per_school_passing_math = school_students_passing_math / per_school_counts * 100\n",
    "#display\n",
    "per_school_passing_math\n",
    "\n",
    "per_school_passing_reading = school_students_passing_reading / per_school_counts * 100\n",
    "#display\n",
    "per_school_passing_reading\n",
    "\n",
    "overall_passing_rate = school_students_passing_math_and_reading / per_school_counts * 100\n",
    "#display\n",
    "overall_passing_rate"
   ]
  },
  {
   "cell_type": "code",
   "execution_count": 21,
   "id": "b843cbae",
   "metadata": {
    "tags": []
   },
   "outputs": [
    {
     "ename": "NameError",
     "evalue": "name 'school_types' is not defined",
     "output_type": "error",
     "traceback": [
      "\u001b[0;31m---------------------------------------------------------------------------\u001b[0m",
      "\u001b[0;31mNameError\u001b[0m                                 Traceback (most recent call last)",
      "Cell \u001b[0;32mIn[21], line 2\u001b[0m\n\u001b[1;32m      1\u001b[0m \u001b[38;5;66;03m# Create a DataFrame called `per_school_summary` with columns for the calculations above.\u001b[39;00m\n\u001b[0;32m----> 2\u001b[0m per_school_summary \u001b[38;5;241m=\u001b[39m pd\u001b[38;5;241m.\u001b[39mDataFrame({\u001b[38;5;124m\"\u001b[39m\u001b[38;5;124mSchool Type\u001b[39m\u001b[38;5;124m\"\u001b[39m:\u001b[43mschool_types\u001b[49m,\n\u001b[1;32m      3\u001b[0m                                  \u001b[38;5;124m\"\u001b[39m\u001b[38;5;124mTotal Students\u001b[39m\u001b[38;5;124m\"\u001b[39m:per_school_counts,\n\u001b[1;32m      4\u001b[0m                                   \u001b[38;5;124m\"\u001b[39m\u001b[38;5;124mTotal School Budget\u001b[39m\u001b[38;5;124m\"\u001b[39m:per_school_budget,\n\u001b[1;32m      5\u001b[0m                                   \u001b[38;5;124m\"\u001b[39m\u001b[38;5;124mPer Student Budget\u001b[39m\u001b[38;5;124m\"\u001b[39m:per_school_capita,\n\u001b[1;32m      6\u001b[0m                                   \u001b[38;5;124m\"\u001b[39m\u001b[38;5;124mAverage Math Score\u001b[39m\u001b[38;5;124m\"\u001b[39m:per_school_math,\n\u001b[1;32m      7\u001b[0m                                   \u001b[38;5;124m\"\u001b[39m\u001b[38;5;124mAverage Reading Score\u001b[39m\u001b[38;5;124m\"\u001b[39m:per_school_reading,\n\u001b[1;32m      8\u001b[0m                                   \u001b[38;5;124m\"\u001b[39m\u001b[38;5;124m%\u001b[39m\u001b[38;5;124m Passing Math\u001b[39m\u001b[38;5;124m\"\u001b[39m:per_school_passing_math,\n\u001b[1;32m      9\u001b[0m                                   \u001b[38;5;124m\"\u001b[39m\u001b[38;5;124m%\u001b[39m\u001b[38;5;124mPassing Reading\u001b[39m\u001b[38;5;124m\"\u001b[39m:per_school_passing_reading,\n\u001b[1;32m     10\u001b[0m                                   \u001b[38;5;124m\"\u001b[39m\u001b[38;5;124m%\u001b[39m\u001b[38;5;124mOverall Passing\u001b[39m\u001b[38;5;124m\"\u001b[39m:overall_passing_rate})\n\u001b[1;32m     12\u001b[0m \u001b[38;5;66;03m# Formatting\u001b[39;00m\n\u001b[1;32m     13\u001b[0m per_school_summary[\u001b[38;5;124m\"\u001b[39m\u001b[38;5;124mTotal School Budget\u001b[39m\u001b[38;5;124m\"\u001b[39m] \u001b[38;5;241m=\u001b[39m per_school_summary[\u001b[38;5;124m\"\u001b[39m\u001b[38;5;124mTotal School Budget\u001b[39m\u001b[38;5;124m\"\u001b[39m]\u001b[38;5;241m.\u001b[39mmap(\u001b[38;5;124m\"\u001b[39m\u001b[38;5;124m$\u001b[39m\u001b[38;5;132;01m{:,.2f}\u001b[39;00m\u001b[38;5;124m\"\u001b[39m\u001b[38;5;241m.\u001b[39mformat)\n",
      "\u001b[0;31mNameError\u001b[0m: name 'school_types' is not defined"
     ]
    }
   ],
   "source": [
    "# Create a DataFrame called `per_school_summary` with columns for the calculations above.\n",
    "per_school_summary = pd.DataFrame({\"School Type\":school_types,\n",
    "                                 \"Total Students\":per_school_counts,\n",
    "                                  \"Total School Budget\":per_school_budget,\n",
    "                                  \"Per Student Budget\":per_school_capita,\n",
    "                                  \"Average Math Score\":per_school_math,\n",
    "                                  \"Average Reading Score\":per_school_reading,\n",
    "                                  \"% Passing Math\":per_school_passing_math,\n",
    "                                  \"%Passing Reading\":per_school_passing_reading,\n",
    "                                  \"%Overall Passing\":overall_passing_rate})\n",
    "\n",
    "# Formatting\n",
    "per_school_summary[\"Total School Budget\"] = per_school_summary[\"Total School Budget\"].map(\"${:,.2f}\".format)\n",
    "per_school_summary[\"Per Student Budget\"] = per_school_summary[\"Per Student Budget\"].map(\"${:,.2f}\".format)\n",
    "\n",
    "# Display the DataFrame\n",
    "per_school_summary"
   ]
  },
  {
   "cell_type": "code",
   "execution_count": 22,
   "id": "fb033db9",
   "metadata": {
    "tags": []
   },
   "outputs": [
    {
     "ename": "NameError",
     "evalue": "name 'per_school_summary' is not defined",
     "output_type": "error",
     "traceback": [
      "\u001b[0;31m---------------------------------------------------------------------------\u001b[0m",
      "\u001b[0;31mNameError\u001b[0m                                 Traceback (most recent call last)",
      "Cell \u001b[0;32mIn[22], line 2\u001b[0m\n\u001b[1;32m      1\u001b[0m \u001b[38;5;66;03m# Sort the schools by `% Overall Passing` in descending order and display the top 5 rows.\u001b[39;00m\n\u001b[0;32m----> 2\u001b[0m top_schools \u001b[38;5;241m=\u001b[39m \u001b[43mper_school_summary\u001b[49m\u001b[38;5;241m.\u001b[39msort_values([\u001b[38;5;124m'\u001b[39m\u001b[38;5;124m%\u001b[39m\u001b[38;5;124mOverall Passing\u001b[39m\u001b[38;5;124m'\u001b[39m], ascending\u001b[38;5;241m=\u001b[39m\u001b[38;5;28;01mFalse\u001b[39;00m)\n\u001b[1;32m      3\u001b[0m top_schools\u001b[38;5;241m.\u001b[39mhead(\u001b[38;5;241m5\u001b[39m)\n",
      "\u001b[0;31mNameError\u001b[0m: name 'per_school_summary' is not defined"
     ]
    }
   ],
   "source": [
    "# Sort the schools by `% Overall Passing` in descending order and display the top 5 rows.\n",
    "top_schools = per_school_summary.sort_values(['%Overall Passing'], ascending=False)\n",
    "top_schools.head(5)"
   ]
  },
  {
   "cell_type": "code",
   "execution_count": 23,
   "id": "a44ccc7a",
   "metadata": {
    "tags": []
   },
   "outputs": [
    {
     "ename": "NameError",
     "evalue": "name 'per_school_summary' is not defined",
     "output_type": "error",
     "traceback": [
      "\u001b[0;31m---------------------------------------------------------------------------\u001b[0m",
      "\u001b[0;31mNameError\u001b[0m                                 Traceback (most recent call last)",
      "Cell \u001b[0;32mIn[23], line 2\u001b[0m\n\u001b[1;32m      1\u001b[0m \u001b[38;5;66;03m# Sort the schools by `% Overall Passing` in ascending order and display the top 5 rows.\u001b[39;00m\n\u001b[0;32m----> 2\u001b[0m bottom_schools \u001b[38;5;241m=\u001b[39m \u001b[43mper_school_summary\u001b[49m\u001b[38;5;241m.\u001b[39msort_values([\u001b[38;5;124m'\u001b[39m\u001b[38;5;124m%\u001b[39m\u001b[38;5;124mOverall Passing\u001b[39m\u001b[38;5;124m'\u001b[39m], ascending\u001b[38;5;241m=\u001b[39m\u001b[38;5;28;01mTrue\u001b[39;00m)\n\u001b[1;32m      3\u001b[0m bottom_schools\u001b[38;5;241m.\u001b[39mhead(\u001b[38;5;241m5\u001b[39m)\n",
      "\u001b[0;31mNameError\u001b[0m: name 'per_school_summary' is not defined"
     ]
    }
   ],
   "source": [
    "# Sort the schools by `% Overall Passing` in ascending order and display the top 5 rows.\n",
    "bottom_schools = per_school_summary.sort_values(['%Overall Passing'], ascending=True)\n",
    "bottom_schools.head(5)"
   ]
  },
  {
   "cell_type": "code",
   "execution_count": 24,
   "id": "7b7eb604",
   "metadata": {
    "tags": []
   },
   "outputs": [
    {
     "ename": "NameError",
     "evalue": "name 'school_data_final' is not defined",
     "output_type": "error",
     "traceback": [
      "\u001b[0;31m---------------------------------------------------------------------------\u001b[0m",
      "\u001b[0;31mNameError\u001b[0m                                 Traceback (most recent call last)",
      "Cell \u001b[0;32mIn[24], line 2\u001b[0m\n\u001b[1;32m      1\u001b[0m \u001b[38;5;66;03m# Use the code provided to separate the data by grade\u001b[39;00m\n\u001b[0;32m----> 2\u001b[0m ninth_graders \u001b[38;5;241m=\u001b[39m \u001b[43mschool_data_final\u001b[49m[(school_data_final[\u001b[38;5;124m\"\u001b[39m\u001b[38;5;124mgrade\u001b[39m\u001b[38;5;124m\"\u001b[39m] \u001b[38;5;241m==\u001b[39m \u001b[38;5;124m\"\u001b[39m\u001b[38;5;124m9th\u001b[39m\u001b[38;5;124m\"\u001b[39m)]\n\u001b[1;32m      3\u001b[0m tenth_graders \u001b[38;5;241m=\u001b[39m school_data_final[(school_data_final[\u001b[38;5;124m\"\u001b[39m\u001b[38;5;124mgrade\u001b[39m\u001b[38;5;124m\"\u001b[39m] \u001b[38;5;241m==\u001b[39m \u001b[38;5;124m\"\u001b[39m\u001b[38;5;124m10th\u001b[39m\u001b[38;5;124m\"\u001b[39m)]\n\u001b[1;32m      4\u001b[0m eleventh_graders \u001b[38;5;241m=\u001b[39m school_data_final[(school_data_final[\u001b[38;5;124m\"\u001b[39m\u001b[38;5;124mgrade\u001b[39m\u001b[38;5;124m\"\u001b[39m] \u001b[38;5;241m==\u001b[39m \u001b[38;5;124m\"\u001b[39m\u001b[38;5;124m11th\u001b[39m\u001b[38;5;124m\"\u001b[39m)]\n",
      "\u001b[0;31mNameError\u001b[0m: name 'school_data_final' is not defined"
     ]
    }
   ],
   "source": [
    "# Use the code provided to separate the data by grade\n",
    "ninth_graders = school_data_final[(school_data_final[\"grade\"] == \"9th\")]\n",
    "tenth_graders = school_data_final[(school_data_final[\"grade\"] == \"10th\")]\n",
    "eleventh_graders = school_data_final[(school_data_final[\"grade\"] == \"11th\")]\n",
    "twelfth_graders = school_data_final[(school_data_final[\"grade\"] == \"12th\")]\n",
    "\n",
    "# Group by `school_name` and take the mean of the `math_score` column for each.\n",
    "ninth_grade_math_scores = ninth_graders.groupby([\"school_name\"])[\"math_score\"].mean()\n",
    "tenth_grader_math_scores = tenth_graders.groupby([\"school_name\"])[\"math_score\"].mean()\n",
    "eleventh_grader_math_scores = eleventh_graders.groupby([\"school_name\"])[\"math_score\"].mean()\n",
    "twelfth_grader_math_scores = twelfth_graders.groupby([\"school_name\"])[\"math_score\"].mean()\n",
    "\n",
    "# Combine each of the scores above into single DataFrame called `math_scores_by_grade`\n",
    "math_scores_by_grade = pd.DataFrame({\"9th\":ninth_grade_math_scores,\n",
    "                        \"10th\":tenth_grader_math_scores,\n",
    "                        \"11th\":eleventh_grader_math_scores,\n",
    "                        \"12th\":twelfth_grader_math_scores})\n",
    "\n",
    "# Minor data wrangling\n",
    "math_scores_by_grade.index.name = None\n",
    "\n",
    "# Display the DataFrame\n",
    "math_scores_by_grade"
   ]
  },
  {
   "cell_type": "code",
   "execution_count": 25,
   "id": "e6015992",
   "metadata": {
    "tags": []
   },
   "outputs": [
    {
     "ename": "NameError",
     "evalue": "name 'school_data_final' is not defined",
     "output_type": "error",
     "traceback": [
      "\u001b[0;31m---------------------------------------------------------------------------\u001b[0m",
      "\u001b[0;31mNameError\u001b[0m                                 Traceback (most recent call last)",
      "Cell \u001b[0;32mIn[25], line 2\u001b[0m\n\u001b[1;32m      1\u001b[0m \u001b[38;5;66;03m# Use the code provided to separate the data by grade\u001b[39;00m\n\u001b[0;32m----> 2\u001b[0m ninth_graders \u001b[38;5;241m=\u001b[39m \u001b[43mschool_data_final\u001b[49m[(school_data_final[\u001b[38;5;124m\"\u001b[39m\u001b[38;5;124mgrade\u001b[39m\u001b[38;5;124m\"\u001b[39m] \u001b[38;5;241m==\u001b[39m \u001b[38;5;124m\"\u001b[39m\u001b[38;5;124m9th\u001b[39m\u001b[38;5;124m\"\u001b[39m)]\n\u001b[1;32m      3\u001b[0m tenth_graders \u001b[38;5;241m=\u001b[39m school_data_final[(school_data_final[\u001b[38;5;124m\"\u001b[39m\u001b[38;5;124mgrade\u001b[39m\u001b[38;5;124m\"\u001b[39m] \u001b[38;5;241m==\u001b[39m \u001b[38;5;124m\"\u001b[39m\u001b[38;5;124m10th\u001b[39m\u001b[38;5;124m\"\u001b[39m)]\n\u001b[1;32m      4\u001b[0m eleventh_graders \u001b[38;5;241m=\u001b[39m school_data_final[(school_data_final[\u001b[38;5;124m\"\u001b[39m\u001b[38;5;124mgrade\u001b[39m\u001b[38;5;124m\"\u001b[39m] \u001b[38;5;241m==\u001b[39m \u001b[38;5;124m\"\u001b[39m\u001b[38;5;124m11th\u001b[39m\u001b[38;5;124m\"\u001b[39m)]\n",
      "\u001b[0;31mNameError\u001b[0m: name 'school_data_final' is not defined"
     ]
    }
   ],
   "source": [
    "# Use the code provided to separate the data by grade\n",
    "ninth_graders = school_data_final[(school_data_final[\"grade\"] == \"9th\")]\n",
    "tenth_graders = school_data_final[(school_data_final[\"grade\"] == \"10th\")]\n",
    "eleventh_graders = school_data_final[(school_data_final[\"grade\"] == \"11th\")]\n",
    "twelfth_graders = school_data_final[(school_data_final[\"grade\"] == \"12th\")]\n",
    "\n",
    "# Group by `school_name` and take the mean of the the `reading_score` column for each.\n",
    "ninth_grade_reading_scores = ninth_graders.groupby([\"school_name\"])[\"reading_score\"].mean()\n",
    "tenth_grader_reading_scores = tenth_graders.groupby([\"school_name\"])[\"reading_score\"].mean()\n",
    "eleventh_grader_reading_scores = eleventh_graders.groupby([\"school_name\"])[\"reading_score\"].mean()\n",
    "twelfth_grader_reading_scores = twelfth_graders.groupby([\"school_name\"])[\"reading_score\"].mean()\n",
    "\n",
    "# Combine each of the scores above into single DataFrame called `reading_scores_by_grade`\n",
    "reading_scores_by_grade = pd.DataFrame({\"9th\":ninth_grade_reading_scores,\n",
    "                        \"10th\":tenth_grader_reading_scores,\n",
    "                        \"11th\":eleventh_grader_reading_scores,\n",
    "                        \"12th\":twelfth_grader_reading_scores})\n",
    "\n",
    "# Minor data wrangling\n",
    "reading_scores_by_grade = reading_scores_by_grade[[\"9th\", \"10th\", \"11th\", \"12th\"]]\n",
    "reading_scores_by_grade.index.name = None\n",
    "\n",
    "# Display the DataFrame\n",
    "reading_scores_by_grade"
   ]
  },
  {
   "cell_type": "code",
   "execution_count": 26,
   "id": "aacc48ba",
   "metadata": {
    "tags": []
   },
   "outputs": [],
   "source": [
    "# Establish the bins \n",
    "spending_bins = [0, 585, 630, 645, 680]\n",
    "labels = [\"<$585\", \"$585-630\", \"$630-645\", \"$645-680\"]"
   ]
  },
  {
   "cell_type": "code",
   "execution_count": 27,
   "id": "d9170797",
   "metadata": {
    "tags": []
   },
   "outputs": [
    {
     "ename": "NameError",
     "evalue": "name 'per_school_summary' is not defined",
     "output_type": "error",
     "traceback": [
      "\u001b[0;31m---------------------------------------------------------------------------\u001b[0m",
      "\u001b[0;31mNameError\u001b[0m                                 Traceback (most recent call last)",
      "Cell \u001b[0;32mIn[27], line 2\u001b[0m\n\u001b[1;32m      1\u001b[0m \u001b[38;5;66;03m# Create a copy of the school summary since it has the \"Per Student Budget\" \u001b[39;00m\n\u001b[0;32m----> 2\u001b[0m school_spending_df \u001b[38;5;241m=\u001b[39m \u001b[43mper_school_summary\u001b[49m\u001b[38;5;241m.\u001b[39mcopy()\n",
      "\u001b[0;31mNameError\u001b[0m: name 'per_school_summary' is not defined"
     ]
    }
   ],
   "source": [
    "# Create a copy of the school summary since it has the \"Per Student Budget\" \n",
    "school_spending_df = per_school_summary.copy()"
   ]
  },
  {
   "cell_type": "code",
   "execution_count": 28,
   "id": "cff851be",
   "metadata": {
    "scrolled": true,
    "tags": []
   },
   "outputs": [
    {
     "ename": "NameError",
     "evalue": "name 'school_spending_df' is not defined",
     "output_type": "error",
     "traceback": [
      "\u001b[0;31m---------------------------------------------------------------------------\u001b[0m",
      "\u001b[0;31mNameError\u001b[0m                                 Traceback (most recent call last)",
      "Cell \u001b[0;32mIn[28], line 2\u001b[0m\n\u001b[1;32m      1\u001b[0m \u001b[38;5;66;03m# Use `pd.cut` to categorize spending based on the bins.\u001b[39;00m\n\u001b[0;32m----> 2\u001b[0m school_spending_df[\u001b[38;5;124m\"\u001b[39m\u001b[38;5;124mSpending Ranges (Per Student)\u001b[39m\u001b[38;5;124m\"\u001b[39m] \u001b[38;5;241m=\u001b[39m pd\u001b[38;5;241m.\u001b[39mcut(x\u001b[38;5;241m=\u001b[39m\u001b[43mschool_spending_df\u001b[49m[\u001b[38;5;124m\"\u001b[39m\u001b[38;5;124mTotal Students\u001b[39m\u001b[38;5;124m\"\u001b[39m], bins\u001b[38;5;241m=\u001b[39m[\u001b[38;5;241m0\u001b[39m, \u001b[38;5;241m585\u001b[39m, \u001b[38;5;241m630\u001b[39m, \u001b[38;5;241m645\u001b[39m, \u001b[38;5;241m680\u001b[39m])\n\u001b[1;32m      4\u001b[0m school_spending_df\n",
      "\u001b[0;31mNameError\u001b[0m: name 'school_spending_df' is not defined"
     ]
    }
   ],
   "source": [
    "# Use `pd.cut` to categorize spending based on the bins.\n",
    "school_spending_df[\"Spending Ranges (Per Student)\"] = pd.cut(x=school_spending_df[\"Total Students\"], bins=[0, 585, 630, 645, 680])\n",
    "\n",
    "school_spending_df"
   ]
  },
  {
   "cell_type": "code",
   "execution_count": 29,
   "id": "997dedea",
   "metadata": {
    "tags": []
   },
   "outputs": [
    {
     "ename": "NameError",
     "evalue": "name 'school_spending_df' is not defined",
     "output_type": "error",
     "traceback": [
      "\u001b[0;31m---------------------------------------------------------------------------\u001b[0m",
      "\u001b[0;31mNameError\u001b[0m                                 Traceback (most recent call last)",
      "Cell \u001b[0;32mIn[29], line 2\u001b[0m\n\u001b[1;32m      1\u001b[0m \u001b[38;5;66;03m#  Calculate averages for the desired columns. \u001b[39;00m\n\u001b[0;32m----> 2\u001b[0m spending_math_scores \u001b[38;5;241m=\u001b[39m \u001b[43mschool_spending_df\u001b[49m\u001b[38;5;241m.\u001b[39mgroupby([\u001b[38;5;124m\"\u001b[39m\u001b[38;5;124mSpending Ranges (Per Student)\u001b[39m\u001b[38;5;124m\"\u001b[39m])[\u001b[38;5;124m\"\u001b[39m\u001b[38;5;124mAverage Math Score\u001b[39m\u001b[38;5;124m\"\u001b[39m]\u001b[38;5;241m.\u001b[39mmean()\n\u001b[1;32m      3\u001b[0m spending_reading_scores \u001b[38;5;241m=\u001b[39m school_spending_df\u001b[38;5;241m.\u001b[39mgroupby([\u001b[38;5;124m\"\u001b[39m\u001b[38;5;124mSpending Ranges (Per Student)\u001b[39m\u001b[38;5;124m\"\u001b[39m])[\u001b[38;5;124m\"\u001b[39m\u001b[38;5;124mAverage Reading Score\u001b[39m\u001b[38;5;124m\"\u001b[39m]\u001b[38;5;241m.\u001b[39mmean()\n\u001b[1;32m      4\u001b[0m spending_passing_math \u001b[38;5;241m=\u001b[39m school_spending_df\u001b[38;5;241m.\u001b[39mgroupby([\u001b[38;5;124m\"\u001b[39m\u001b[38;5;124mSpending Ranges (Per Student)\u001b[39m\u001b[38;5;124m\"\u001b[39m])[\u001b[38;5;124m\"\u001b[39m\u001b[38;5;124m%\u001b[39m\u001b[38;5;124m Passing Math\u001b[39m\u001b[38;5;124m\"\u001b[39m]\u001b[38;5;241m.\u001b[39mmean()\n",
      "\u001b[0;31mNameError\u001b[0m: name 'school_spending_df' is not defined"
     ]
    }
   ],
   "source": [
    "#  Calculate averages for the desired columns. \n",
    "spending_math_scores = school_spending_df.groupby([\"Spending Ranges (Per Student)\"])[\"Average Math Score\"].mean()\n",
    "spending_reading_scores = school_spending_df.groupby([\"Spending Ranges (Per Student)\"])[\"Average Reading Score\"].mean()\n",
    "spending_passing_math = school_spending_df.groupby([\"Spending Ranges (Per Student)\"])[\"% Passing Math\"].mean()\n",
    "spending_passing_reading = school_spending_df.groupby([\"Spending Ranges (Per Student)\"])[\"%Passing Reading\"].mean()\n",
    "overall_passing_spending = school_spending_df.groupby([\"Spending Ranges (Per Student)\"])[\"%Overall Passing\"].mean()"
   ]
  },
  {
   "cell_type": "code",
   "execution_count": 30,
   "id": "f0285c7e",
   "metadata": {
    "tags": []
   },
   "outputs": [
    {
     "ename": "NameError",
     "evalue": "name 'spending_math_scores' is not defined",
     "output_type": "error",
     "traceback": [
      "\u001b[0;31m---------------------------------------------------------------------------\u001b[0m",
      "\u001b[0;31mNameError\u001b[0m                                 Traceback (most recent call last)",
      "Cell \u001b[0;32mIn[30], line 2\u001b[0m\n\u001b[1;32m      1\u001b[0m \u001b[38;5;66;03m# Assemble into DataFrame\u001b[39;00m\n\u001b[0;32m----> 2\u001b[0m spending_summary \u001b[38;5;241m=\u001b[39m pd\u001b[38;5;241m.\u001b[39mDataFrame({\u001b[38;5;124m\"\u001b[39m\u001b[38;5;124mAverage Math Score\u001b[39m\u001b[38;5;124m\"\u001b[39m:\u001b[43mspending_math_scores\u001b[49m,\n\u001b[1;32m      3\u001b[0m                                 \u001b[38;5;124m\"\u001b[39m\u001b[38;5;124mAverage Reading Score\u001b[39m\u001b[38;5;124m\"\u001b[39m:spending_reading_scores,\n\u001b[1;32m      4\u001b[0m                                 \u001b[38;5;124m\"\u001b[39m\u001b[38;5;124m%\u001b[39m\u001b[38;5;124m Passing Math\u001b[39m\u001b[38;5;124m\"\u001b[39m:spending_passing_math,\n\u001b[1;32m      5\u001b[0m                                 \u001b[38;5;124m\"\u001b[39m\u001b[38;5;124m%\u001b[39m\u001b[38;5;124m Passing Reading\u001b[39m\u001b[38;5;124m\"\u001b[39m:spending_passing_reading,\n\u001b[1;32m      6\u001b[0m                                 \u001b[38;5;124m\"\u001b[39m\u001b[38;5;124m%\u001b[39m\u001b[38;5;124m Overall Passing\u001b[39m\u001b[38;5;124m\"\u001b[39m:overall_passing_spending})\n\u001b[1;32m      8\u001b[0m \u001b[38;5;66;03m# Display results\u001b[39;00m\n\u001b[1;32m      9\u001b[0m spending_summary\n",
      "\u001b[0;31mNameError\u001b[0m: name 'spending_math_scores' is not defined"
     ]
    }
   ],
   "source": [
    "# Assemble into DataFrame\n",
    "spending_summary = pd.DataFrame({\"Average Math Score\":spending_math_scores,\n",
    "                                \"Average Reading Score\":spending_reading_scores,\n",
    "                                \"% Passing Math\":spending_passing_math,\n",
    "                                \"% Passing Reading\":spending_passing_reading,\n",
    "                                \"% Overall Passing\":overall_passing_spending})\n",
    "\n",
    "# Display results\n",
    "spending_summary"
   ]
  },
  {
   "cell_type": "code",
   "execution_count": 31,
   "id": "eb10ab14",
   "metadata": {
    "tags": []
   },
   "outputs": [],
   "source": [
    "# Establish the bins.\n",
    "size_bins = [0, 1000, 2000, 5000]\n",
    "labels = [\"Small (<1000)\", \"Medium (1000-2000)\", \"Large (2000-5000)\"]"
   ]
  },
  {
   "cell_type": "code",
   "execution_count": 32,
   "id": "9f919f2b",
   "metadata": {
    "tags": []
   },
   "outputs": [
    {
     "ename": "NameError",
     "evalue": "name 'school_spending_df' is not defined",
     "output_type": "error",
     "traceback": [
      "\u001b[0;31m---------------------------------------------------------------------------\u001b[0m",
      "\u001b[0;31mNameError\u001b[0m                                 Traceback (most recent call last)",
      "Cell \u001b[0;32mIn[32], line 4\u001b[0m\n\u001b[1;32m      1\u001b[0m \u001b[38;5;66;03m# Categorize the spending based on the bins\u001b[39;00m\n\u001b[1;32m      2\u001b[0m \u001b[38;5;66;03m# Use `pd.cut` on the \"Total Students\" column of the `per_school_summary` DataFrame.\u001b[39;00m\n\u001b[0;32m----> 4\u001b[0m per_school_summary[\u001b[38;5;124m\"\u001b[39m\u001b[38;5;124mSchool Size\u001b[39m\u001b[38;5;124m\"\u001b[39m] \u001b[38;5;241m=\u001b[39m pd\u001b[38;5;241m.\u001b[39mcut(x\u001b[38;5;241m=\u001b[39m\u001b[43mschool_spending_df\u001b[49m[\u001b[38;5;124m\"\u001b[39m\u001b[38;5;124mTotal Students\u001b[39m\u001b[38;5;124m\"\u001b[39m], bins\u001b[38;5;241m=\u001b[39m[\u001b[38;5;241m0\u001b[39m, \u001b[38;5;241m1000\u001b[39m, \u001b[38;5;241m2000\u001b[39m, \u001b[38;5;241m5000\u001b[39m])\n\u001b[1;32m      5\u001b[0m per_school_summary\n",
      "\u001b[0;31mNameError\u001b[0m: name 'school_spending_df' is not defined"
     ]
    }
   ],
   "source": [
    "# Categorize the spending based on the bins\n",
    "# Use `pd.cut` on the \"Total Students\" column of the `per_school_summary` DataFrame.\n",
    "\n",
    "per_school_summary[\"School Size\"] = pd.cut(x=school_spending_df[\"Total Students\"], bins=[0, 1000, 2000, 5000])\n",
    "per_school_summary"
   ]
  },
  {
   "cell_type": "code",
   "execution_count": 33,
   "id": "71f07f4c",
   "metadata": {
    "tags": []
   },
   "outputs": [
    {
     "ename": "NameError",
     "evalue": "name 'per_school_summary' is not defined",
     "output_type": "error",
     "traceback": [
      "\u001b[0;31m---------------------------------------------------------------------------\u001b[0m",
      "\u001b[0;31mNameError\u001b[0m                                 Traceback (most recent call last)",
      "Cell \u001b[0;32mIn[33], line 2\u001b[0m\n\u001b[1;32m      1\u001b[0m \u001b[38;5;66;03m# Calculate averages for the desired columns. \u001b[39;00m\n\u001b[0;32m----> 2\u001b[0m size_math_scores \u001b[38;5;241m=\u001b[39m \u001b[43mper_school_summary\u001b[49m\u001b[38;5;241m.\u001b[39mgroupby([\u001b[38;5;124m\"\u001b[39m\u001b[38;5;124mSchool Size\u001b[39m\u001b[38;5;124m\"\u001b[39m])[\u001b[38;5;124m\"\u001b[39m\u001b[38;5;124mAverage Math Score\u001b[39m\u001b[38;5;124m\"\u001b[39m]\u001b[38;5;241m.\u001b[39mmean()\n\u001b[1;32m      3\u001b[0m size_reading_scores \u001b[38;5;241m=\u001b[39m per_school_summary\u001b[38;5;241m.\u001b[39mgroupby([\u001b[38;5;124m\"\u001b[39m\u001b[38;5;124mSchool Size\u001b[39m\u001b[38;5;124m\"\u001b[39m])[\u001b[38;5;124m\"\u001b[39m\u001b[38;5;124mAverage Reading Score\u001b[39m\u001b[38;5;124m\"\u001b[39m]\u001b[38;5;241m.\u001b[39mmean()\n\u001b[1;32m      4\u001b[0m size_passing_math \u001b[38;5;241m=\u001b[39m per_school_summary\u001b[38;5;241m.\u001b[39mgroupby([\u001b[38;5;124m\"\u001b[39m\u001b[38;5;124mSchool Size\u001b[39m\u001b[38;5;124m\"\u001b[39m])[\u001b[38;5;124m\"\u001b[39m\u001b[38;5;124m%\u001b[39m\u001b[38;5;124m Passing Math\u001b[39m\u001b[38;5;124m\"\u001b[39m]\u001b[38;5;241m.\u001b[39mmean()\n",
      "\u001b[0;31mNameError\u001b[0m: name 'per_school_summary' is not defined"
     ]
    }
   ],
   "source": [
    "# Calculate averages for the desired columns. \n",
    "size_math_scores = per_school_summary.groupby([\"School Size\"])[\"Average Math Score\"].mean()\n",
    "size_reading_scores = per_school_summary.groupby([\"School Size\"])[\"Average Reading Score\"].mean()\n",
    "size_passing_math = per_school_summary.groupby([\"School Size\"])[\"% Passing Math\"].mean()\n",
    "size_passing_reading = per_school_summary.groupby([\"School Size\"])[\"%Passing Reading\"].mean()\n",
    "size_overall_passing = per_school_summary.groupby([\"School Size\"])[\"%Overall Passing\"].mean()"
   ]
  },
  {
   "cell_type": "code",
   "execution_count": 34,
   "id": "2f191a5d",
   "metadata": {
    "tags": []
   },
   "outputs": [
    {
     "ename": "SyntaxError",
     "evalue": "invalid syntax (1835452402.py, line 3)",
     "output_type": "error",
     "traceback": [
      "\u001b[0;36m  Cell \u001b[0;32mIn[34], line 3\u001b[0;36m\u001b[0m\n\u001b[0;31m    size_summary = pd.DataFrame([\"Average Math Score\":spending_math_scores,\u001b[0m\n\u001b[0m                                                     ^\u001b[0m\n\u001b[0;31mSyntaxError\u001b[0m\u001b[0;31m:\u001b[0m invalid syntax\n"
     ]
    }
   ],
   "source": [
    "# Create a DataFrame called `size_summary` that breaks down school performance based on school size (small, medium, or large).\n",
    "# Use the scores above to create a new DataFrame called `size_summary`\n",
    "size_summary = pd.DataFrame([\"Average Math Score\":spending_math_scores,\n",
    "                            \"Average Reading Score\":size_reading_scores,\n",
    "                            \"% Passing Math\":size_passing_math,\n",
    "                            \"% Passing Reading\":size_passing_reading ,\n",
    "                            \"% Overall Passing\":size_overall_passing])\n",
    "\n",
    "# Display results\n",
    "size_summary"
   ]
  },
  {
   "cell_type": "code",
   "execution_count": 35,
   "id": "bf3bda15",
   "metadata": {
    "tags": []
   },
   "outputs": [
    {
     "ename": "NameError",
     "evalue": "name 'per_school_summary' is not defined",
     "output_type": "error",
     "traceback": [
      "\u001b[0;31m---------------------------------------------------------------------------\u001b[0m",
      "\u001b[0;31mNameError\u001b[0m                                 Traceback (most recent call last)",
      "Cell \u001b[0;32mIn[35], line 2\u001b[0m\n\u001b[1;32m      1\u001b[0m \u001b[38;5;66;03m# Group the per_school_summary DataFrame by \"School Type\" and average the results.\u001b[39;00m\n\u001b[0;32m----> 2\u001b[0m average_math_score_by_type \u001b[38;5;241m=\u001b[39m \u001b[43mper_school_summary\u001b[49m\u001b[38;5;241m.\u001b[39mgroupby([\u001b[38;5;124m\"\u001b[39m\u001b[38;5;124mSchool Type\u001b[39m\u001b[38;5;124m\"\u001b[39m])[\u001b[38;5;124m\"\u001b[39m\u001b[38;5;124mAverage Math Score\u001b[39m\u001b[38;5;124m\"\u001b[39m]\u001b[38;5;241m.\u001b[39mmean()\n\u001b[1;32m      3\u001b[0m average_reading_score_by_type \u001b[38;5;241m=\u001b[39m per_school_summary\u001b[38;5;241m.\u001b[39mgroupby([\u001b[38;5;124m\"\u001b[39m\u001b[38;5;124mSchool Type\u001b[39m\u001b[38;5;124m\"\u001b[39m])[\u001b[38;5;124m\"\u001b[39m\u001b[38;5;124mAverage Reading Score\u001b[39m\u001b[38;5;124m\"\u001b[39m]\u001b[38;5;241m.\u001b[39mmean()\n\u001b[1;32m      4\u001b[0m average_percent_passing_math_by_type \u001b[38;5;241m=\u001b[39m per_school_summary\u001b[38;5;241m.\u001b[39mgroupby([\u001b[38;5;124m\"\u001b[39m\u001b[38;5;124mSchool Type\u001b[39m\u001b[38;5;124m\"\u001b[39m])[\u001b[38;5;124m\"\u001b[39m\u001b[38;5;124m%\u001b[39m\u001b[38;5;124m Passing Math\u001b[39m\u001b[38;5;124m\"\u001b[39m]\u001b[38;5;241m.\u001b[39mmean()\n",
      "\u001b[0;31mNameError\u001b[0m: name 'per_school_summary' is not defined"
     ]
    }
   ],
   "source": [
    "# Group the per_school_summary DataFrame by \"School Type\" and average the results.\n",
    "average_math_score_by_type = per_school_summary.groupby([\"School Type\"])[\"Average Math Score\"].mean()\n",
    "average_reading_score_by_type = per_school_summary.groupby([\"School Type\"])[\"Average Reading Score\"].mean()\n",
    "average_percent_passing_math_by_type = per_school_summary.groupby([\"School Type\"])[\"% Passing Math\"].mean()\n",
    "average_percent_passing_reading_by_type = per_school_summary.groupby([\"School Type\"])[\"% Passing Reading\"].mean()\n",
    "average_percent_overall_passing_by_type = per_school_summary.groupby([\"School Type\"])[\"% Overall Passing\"].mean()"
   ]
  },
  {
   "cell_type": "code",
   "execution_count": 36,
   "id": "d2bba503-48fc-4762-abf0-c09094e481cf",
   "metadata": {
    "tags": []
   },
   "outputs": [
    {
     "name": "stdout",
     "output_type": "stream",
     "text": [
      "/Users/marissasaucedo/desktop/solutiochallenge4_2/pandas_challenge\n"
     ]
    }
   ],
   "source": [
    "! pwd"
   ]
  },
  {
   "cell_type": "code",
   "execution_count": 37,
   "id": "b71d3b6b-7327-4cdb-ab8d-81a564e95cef",
   "metadata": {
    "tags": []
   },
   "outputs": [
    {
     "name": "stdout",
     "output_type": "stream",
     "text": [
      "total 152\n",
      "drwxr-xr-x   6 marissasaucedo  staff    192 Oct  3 22:21 \u001b[34m.\u001b[m\u001b[m\n",
      "drwxr-xr-x   4 marissasaucedo  staff    128 Oct  2 22:11 \u001b[34m..\u001b[m\u001b[m\n",
      "drwxr-xr-x  13 marissasaucedo  staff    416 Oct  2 22:13 \u001b[34m.git\u001b[m\u001b[m\n",
      "drwxr-xr-x   3 marissasaucedo  staff     96 Oct  2 22:16 \u001b[34m.ipynb_checkpoints\u001b[m\u001b[m\n",
      "-rw-r--r--   1 marissasaucedo  staff     18 Oct  2 22:10 README.md\n",
      "-rw-r--r--@  1 marissasaucedo  staff  73014 Oct  3 22:21 pandas_challenge4.ipynb\n"
     ]
    }
   ],
   "source": [
    "! ls -al"
   ]
  },
  {
   "cell_type": "code",
   "execution_count": null,
   "id": "46637ba3-0dc2-431f-b2ed-7aaf2a2c3057",
   "metadata": {},
   "outputs": [],
   "source": []
  },
  {
   "cell_type": "code",
   "execution_count": null,
   "id": "2baa8136-be66-4744-970b-251508276d99",
   "metadata": {},
   "outputs": [],
   "source": []
  },
  {
   "cell_type": "code",
   "execution_count": null,
   "id": "882a0c10-d9d7-42a1-b3a8-13c6be55ada0",
   "metadata": {},
   "outputs": [],
   "source": []
  }
 ],
 "metadata": {
  "kernelspec": {
   "display_name": "Python 3 (ipykernel)",
   "language": "python",
   "name": "python3"
  },
  "language_info": {
   "codemirror_mode": {
    "name": "ipython",
    "version": 3
   },
   "file_extension": ".py",
   "mimetype": "text/x-python",
   "name": "python",
   "nbconvert_exporter": "python",
   "pygments_lexer": "ipython3",
   "version": "3.10.13"
  }
 },
 "nbformat": 4,
 "nbformat_minor": 5
}
